{
 "cells": [
  {
   "cell_type": "markdown",
   "metadata": {},
   "source": [
    "# Logarithm Definition\n",
    "\n",
    "\n",
    "## $ \\log_a{b} $ given $ (b > 0, a > 0, a \\ne 1) $ means:  $ a ^ {\\log_a{b}} =  b $"
   ]
  },
  {
   "cell_type": "markdown",
   "metadata": {},
   "source": [
    "## Logarithmic Properties\n",
    "\n",
    "## $ \\log_a{1} = 0 $\n",
    "## $ \\log_a{a} = 1 $\n",
    "## $ \\log_a{x y} = \\log_a{x} + \\log_a{y} $\n",
    "## $ \\log_a{ \\frac{x}{y} } = \\log_a{x} - \\log_a{y} $\n",
    "## $ \\log_a{ x^k } = k \\log_a{ |x| } \\quad if \\quad k \\in {\\displaystyle \\mathbb {E} } $\n",
    "## $ \\log_a{ x^r } = r \\log_a{ x } \\quad if \\quad  x > 0 $"
   ]
  },
  {
   "cell_type": "markdown",
   "metadata": {},
   "source": [
    "# Decimal Logarithm\n",
    "\n",
    "## $ \\log_{10}{a} = \\lg a $\n",
    "\n",
    "## $ \\lg{10 ^ n} = n \\implies \\lg a = \\lg{a_1} + n $\n",
    "#### $ n \\in {\\displaystyle \\mathbb {Z} } \\ $ - the order of the number $ a $  \n",
    "#### $ a \\in {\\displaystyle \\mathbb {Z} }_{+}, \\quad a = a_1{10^n}, \\quad 1 \\leq a_1 \\le 10 $\n",
    "#### $ 0 \\leq \\lg a_1 \\le 1 $\n",
    "\n",
    "## $ \\lg a_1 \\  -\\ Mantissa\\ of\\ \\lg a $\n",
    "\n",
    "## $ n \\ -\\ Characteristic\\ of\\ \\lg a $"
   ]
  },
  {
   "cell_type": "markdown",
   "metadata": {},
   "source": [
    "# Natural Logarithm\n",
    "\n",
    "## $ \\log_e{a} = \\ln{a} $\n",
    "\n",
    "### $ \\ln{a} = \\frac{\\lg{a}}{\\lg{e}} $\n",
    "\n",
    "### $ e^{\\ln{x}} = x,\\ if\\ x > 0 $\n",
    "### $ \\ln{e ^ x} = x $ "
   ]
  },
  {
   "cell_type": "markdown",
   "metadata": {},
   "source": [
    "# Exponential notation"
   ]
  },
  {
   "cell_type": "markdown",
   "metadata": {},
   "source": [
    "# Extra formulas:\n",
    "- [funnearThis @ GDrive](https://drive.google.com/drive/folders/1nyDF1fhPPhmrhblvZtrtkQiLPN6q8pq4)\n",
    "- http://www.logarifmy.ru/logarifmirovanie/\n",
    "- [LaTeX cheatsheet](https://github.com/Funnear/DiploDoc/blob/master/All%20technologies/LaTeX/Readme.md)"
   ]
  },
  {
   "cell_type": "code",
   "execution_count": null,
   "metadata": {},
   "outputs": [],
   "source": []
  }
 ],
 "metadata": {
  "kernelspec": {
   "display_name": "Python 3",
   "language": "python",
   "name": "python3"
  },
  "language_info": {
   "codemirror_mode": {
    "name": "ipython",
    "version": 3
   },
   "file_extension": ".py",
   "mimetype": "text/x-python",
   "name": "python",
   "nbconvert_exporter": "python",
   "pygments_lexer": "ipython3",
   "version": "3.7.6"
  }
 },
 "nbformat": 4,
 "nbformat_minor": 4
}
